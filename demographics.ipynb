{
 "cells": [
  {
   "cell_type": "code",
   "execution_count": 1,
   "metadata": {},
   "outputs": [],
   "source": [
    "import os \n",
    "import pandas as pd\n"
   ]
  },
  {
   "cell_type": "code",
   "execution_count": 2,
   "metadata": {},
   "outputs": [
    {
     "data": {
      "text/html": [
       "<div>\n",
       "<style scoped>\n",
       "    .dataframe tbody tr th:only-of-type {\n",
       "        vertical-align: middle;\n",
       "    }\n",
       "\n",
       "    .dataframe tbody tr th {\n",
       "        vertical-align: top;\n",
       "    }\n",
       "\n",
       "    .dataframe thead th {\n",
       "        text-align: right;\n",
       "    }\n",
       "</style>\n",
       "<table border=\"1\" class=\"dataframe\">\n",
       "  <thead>\n",
       "    <tr style=\"text-align: right;\">\n",
       "      <th></th>\n",
       "      <th>gender</th>\n",
       "      <th>age</th>\n",
       "      <th>working_hours</th>\n",
       "      <th>age_group</th>\n",
       "      <th>pid</th>\n",
       "    </tr>\n",
       "  </thead>\n",
       "  <tbody>\n",
       "    <tr>\n",
       "      <th>0</th>\n",
       "      <td>female</td>\n",
       "      <td>44.0</td>\n",
       "      <td>Flexible Schedule</td>\n",
       "      <td>Between 40 and 60</td>\n",
       "      <td>alqt150211047</td>\n",
       "    </tr>\n",
       "    <tr>\n",
       "      <th>1</th>\n",
       "      <td>female</td>\n",
       "      <td>29.0</td>\n",
       "      <td>Regular Work Hours Between 8AM-5PM</td>\n",
       "      <td>Under 40</td>\n",
       "      <td>alqt150211119</td>\n",
       "    </tr>\n",
       "    <tr>\n",
       "      <th>2</th>\n",
       "      <td>male</td>\n",
       "      <td>19.0</td>\n",
       "      <td>Regular Work Hours Between 8AM-5PM</td>\n",
       "      <td>Under 40</td>\n",
       "      <td>alqt150211143</td>\n",
       "    </tr>\n",
       "    <tr>\n",
       "      <th>3</th>\n",
       "      <td>male</td>\n",
       "      <td>21.0</td>\n",
       "      <td>Regular Work Hours Between 8AM-5PM</td>\n",
       "      <td>Under 40</td>\n",
       "      <td>alqt150211144</td>\n",
       "    </tr>\n",
       "    <tr>\n",
       "      <th>4</th>\n",
       "      <td>male</td>\n",
       "      <td>60.0</td>\n",
       "      <td>Regular Work Hours Between 8AM-5PM</td>\n",
       "      <td>Between 40 and 60</td>\n",
       "      <td>alqt150211157</td>\n",
       "    </tr>\n",
       "  </tbody>\n",
       "</table>\n",
       "</div>"
      ],
      "text/plain": [
       "   gender   age                       working_hours          age_group  \\\n",
       "0  female  44.0                   Flexible Schedule  Between 40 and 60   \n",
       "1  female  29.0  Regular Work Hours Between 8AM-5PM           Under 40   \n",
       "2    male  19.0  Regular Work Hours Between 8AM-5PM           Under 40   \n",
       "3    male  21.0  Regular Work Hours Between 8AM-5PM           Under 40   \n",
       "4    male  60.0  Regular Work Hours Between 8AM-5PM  Between 40 and 60   \n",
       "\n",
       "             pid  \n",
       "0  alqt150211047  \n",
       "1  alqt150211119  \n",
       "2  alqt150211143  \n",
       "3  alqt150211144  \n",
       "4  alqt150211157  "
      ]
     },
     "execution_count": 2,
     "metadata": {},
     "output_type": "execute_result"
    }
   ],
   "source": [
    "demo_df = pd.read_csv('data/user_demographics.csv')\n",
    "demo_df.head()"
   ]
  },
  {
   "cell_type": "code",
   "execution_count": 3,
   "metadata": {},
   "outputs": [
    {
     "data": {
      "text/plain": [
       "gender\n",
       "female     13327\n",
       "male        7636\n",
       "unknown       20\n",
       "other         12\n",
       "Name: count, dtype: int64"
      ]
     },
     "execution_count": 3,
     "metadata": {},
     "output_type": "execute_result"
    }
   ],
   "source": [
    "demo_df['gender'].value_counts()"
   ]
  },
  {
   "cell_type": "code",
   "execution_count": 4,
   "metadata": {},
   "outputs": [
    {
     "data": {
      "text/plain": [
       "count    20995.000000\n",
       "mean        44.442248\n",
       "std         12.298928\n",
       "min         18.000000\n",
       "25%         35.000000\n",
       "50%         44.000000\n",
       "75%         53.000000\n",
       "max         88.000000\n",
       "Name: age, dtype: float64"
      ]
     },
     "execution_count": 4,
     "metadata": {},
     "output_type": "execute_result"
    }
   ],
   "source": [
    "demo_df['age'].describe()"
   ]
  },
  {
   "cell_type": "code",
   "execution_count": 5,
   "metadata": {},
   "outputs": [
    {
     "data": {
      "text/plain": [
       "working_hours\n",
       "Regular Work Hours Between 8AM-5PM    8134\n",
       "Flexible Schedule                     6440\n",
       "Long Work Hours                       2799\n",
       "Unknown                               2081\n",
       "Rotating Shift                         671\n",
       "Morning Shift                          455\n",
       "Evening Shift                          226\n",
       "Night Shift                            189\n",
       "Name: count, dtype: int64"
      ]
     },
     "execution_count": 5,
     "metadata": {},
     "output_type": "execute_result"
    }
   ],
   "source": [
    "demo_df['working_hours'].value_counts()"
   ]
  }
 ],
 "metadata": {
  "kernelspec": {
   "display_name": "ds",
   "language": "python",
   "name": "python3"
  },
  "language_info": {
   "codemirror_mode": {
    "name": "ipython",
    "version": 3
   },
   "file_extension": ".py",
   "mimetype": "text/x-python",
   "name": "python",
   "nbconvert_exporter": "python",
   "pygments_lexer": "ipython3",
   "version": "3.12.9"
  }
 },
 "nbformat": 4,
 "nbformat_minor": 2
}
